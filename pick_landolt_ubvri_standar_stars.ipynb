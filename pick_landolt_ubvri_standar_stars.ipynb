{
 "cells": [
  {
   "cell_type": "code",
   "execution_count": 36,
   "id": "d6f82cf7",
   "metadata": {},
   "outputs": [],
   "source": [
    "from astroquery.vizier import Vizier\n",
    "\n",
    "from astropy.table import Table\n",
    "from astropy.coordinates import SkyCoord, EarthLocation\n",
    "from astropy.time import Time\n",
    "import astropy.units as u\n",
    "\n",
    "import pandas as pd\n",
    "import numpy as np\n",
    "\n",
    "import datetime\n",
    "\n",
    "from IPython.display import Markdown, HTML"
   ]
  },
  {
   "cell_type": "markdown",
   "id": "b50a40f1",
   "metadata": {},
   "source": [
    "## User Input"
   ]
  },
  {
   "cell_type": "code",
   "execution_count": 45,
   "id": "0c9da58d",
   "metadata": {},
   "outputs": [],
   "source": [
    "# Specify the catalog identifier (the bibcode)\n",
    "catalog_id = \"II/183A\"  # This is the VizieR catalog ID for the paper\n"
   ]
  },
  {
   "cell_type": "markdown",
   "id": "2b00f0f1",
   "metadata": {},
   "source": [
    "## Get the Catalog Table"
   ]
  },
  {
   "cell_type": "code",
   "execution_count": 46,
   "id": "ba265c83",
   "metadata": {},
   "outputs": [
    {
     "data": {
      "text/html": [
       "<div>\n",
       "<style scoped>\n",
       "    .dataframe tbody tr th:only-of-type {\n",
       "        vertical-align: middle;\n",
       "    }\n",
       "\n",
       "    .dataframe tbody tr th {\n",
       "        vertical-align: top;\n",
       "    }\n",
       "\n",
       "    .dataframe thead th {\n",
       "        text-align: right;\n",
       "    }\n",
       "</style>\n",
       "<table border=\"1\" class=\"dataframe\">\n",
       "  <thead>\n",
       "    <tr style=\"text-align: right;\">\n",
       "      <th></th>\n",
       "      <th>RAJ2000</th>\n",
       "      <th>DEJ2000</th>\n",
       "      <th>Vmag</th>\n",
       "      <th>e_Vmag</th>\n",
       "      <th>B-V</th>\n",
       "      <th>e_B-V</th>\n",
       "      <th>U-B</th>\n",
       "      <th>e_U-B</th>\n",
       "      <th>V-R</th>\n",
       "      <th>e_V-R</th>\n",
       "      <th>R-I</th>\n",
       "      <th>e_R-I</th>\n",
       "      <th>V-I</th>\n",
       "      <th>e_V-I</th>\n",
       "      <th>SimbadName</th>\n",
       "    </tr>\n",
       "  </thead>\n",
       "  <tbody>\n",
       "    <tr>\n",
       "      <th>0</th>\n",
       "      <td>00 30 09</td>\n",
       "      <td>-46 31 22</td>\n",
       "      <td>14.651</td>\n",
       "      <td>0.0028</td>\n",
       "      <td>0.793</td>\n",
       "      <td>0.0046</td>\n",
       "      <td>0.380</td>\n",
       "      <td>0.0071</td>\n",
       "      <td>0.435</td>\n",
       "      <td>0.0019</td>\n",
       "      <td>0.405</td>\n",
       "      <td>0.0035</td>\n",
       "      <td>0.841</td>\n",
       "      <td>0.0032</td>\n",
       "      <td>[L92b] TPHE A</td>\n",
       "    </tr>\n",
       "    <tr>\n",
       "      <th>1</th>\n",
       "      <td>00 30 16</td>\n",
       "      <td>-46 27 55</td>\n",
       "      <td>12.334</td>\n",
       "      <td>0.0115</td>\n",
       "      <td>0.405</td>\n",
       "      <td>0.0026</td>\n",
       "      <td>0.156</td>\n",
       "      <td>0.0039</td>\n",
       "      <td>0.262</td>\n",
       "      <td>0.0020</td>\n",
       "      <td>0.271</td>\n",
       "      <td>0.0019</td>\n",
       "      <td>0.535</td>\n",
       "      <td>0.0035</td>\n",
       "      <td>[L92b] TPHE B</td>\n",
       "    </tr>\n",
       "    <tr>\n",
       "      <th>2</th>\n",
       "      <td>00 30 17</td>\n",
       "      <td>-46 32 34</td>\n",
       "      <td>14.376</td>\n",
       "      <td>0.0022</td>\n",
       "      <td>-0.298</td>\n",
       "      <td>0.0024</td>\n",
       "      <td>-1.217</td>\n",
       "      <td>0.0043</td>\n",
       "      <td>-0.148</td>\n",
       "      <td>0.0038</td>\n",
       "      <td>-0.211</td>\n",
       "      <td>0.0133</td>\n",
       "      <td>-0.360</td>\n",
       "      <td>0.0149</td>\n",
       "      <td>[L92b] TPHE C</td>\n",
       "    </tr>\n",
       "    <tr>\n",
       "      <th>3</th>\n",
       "      <td>00 30 18</td>\n",
       "      <td>-46 31 11</td>\n",
       "      <td>13.118</td>\n",
       "      <td>0.0033</td>\n",
       "      <td>1.551</td>\n",
       "      <td>0.0030</td>\n",
       "      <td>1.871</td>\n",
       "      <td>0.0118</td>\n",
       "      <td>0.849</td>\n",
       "      <td>0.0015</td>\n",
       "      <td>0.810</td>\n",
       "      <td>0.0023</td>\n",
       "      <td>1.663</td>\n",
       "      <td>0.0030</td>\n",
       "      <td>[L92b] TPHE D</td>\n",
       "    </tr>\n",
       "    <tr>\n",
       "      <th>4</th>\n",
       "      <td>00 30 19</td>\n",
       "      <td>-46 24 36</td>\n",
       "      <td>11.630</td>\n",
       "      <td>0.0017</td>\n",
       "      <td>0.443</td>\n",
       "      <td>0.0012</td>\n",
       "      <td>-0.103</td>\n",
       "      <td>0.0024</td>\n",
       "      <td>0.276</td>\n",
       "      <td>0.0007</td>\n",
       "      <td>0.283</td>\n",
       "      <td>0.0015</td>\n",
       "      <td>0.564</td>\n",
       "      <td>0.0019</td>\n",
       "      <td>[L92b] TPHE E</td>\n",
       "    </tr>\n",
       "  </tbody>\n",
       "</table>\n",
       "</div>"
      ],
      "text/plain": [
       "    RAJ2000    DEJ2000    Vmag  e_Vmag    B-V   e_B-V    U-B   e_U-B    V-R  \\\n",
       "0  00 30 09  -46 31 22  14.651  0.0028  0.793  0.0046  0.380  0.0071  0.435   \n",
       "1  00 30 16  -46 27 55  12.334  0.0115  0.405  0.0026  0.156  0.0039  0.262   \n",
       "2  00 30 17  -46 32 34  14.376  0.0022 -0.298  0.0024 -1.217  0.0043 -0.148   \n",
       "3  00 30 18  -46 31 11  13.118  0.0033  1.551  0.0030  1.871  0.0118  0.849   \n",
       "4  00 30 19  -46 24 36  11.630  0.0017  0.443  0.0012 -0.103  0.0024  0.276   \n",
       "\n",
       "    e_V-R    R-I   e_R-I    V-I   e_V-I     SimbadName  \n",
       "0  0.0019  0.405  0.0035  0.841  0.0032  [L92b] TPHE A  \n",
       "1  0.0020  0.271  0.0019  0.535  0.0035  [L92b] TPHE B  \n",
       "2  0.0038 -0.211  0.0133 -0.360  0.0149  [L92b] TPHE C  \n",
       "3  0.0015  0.810  0.0023  1.663  0.0030  [L92b] TPHE D  \n",
       "4  0.0007  0.283  0.0015  0.564  0.0019  [L92b] TPHE E  "
      ]
     },
     "execution_count": 46,
     "metadata": {},
     "output_type": "execute_result"
    }
   ],
   "source": [
    "# Initialize the Vizier object\n",
    "vizier = Vizier(row_limit=-1)\n",
    "\n",
    "# Retrieve the table(s)\n",
    "tables = vizier.get_catalogs(catalog_id)\n",
    "\n",
    "# Check if any tables were found\n",
    "if tables:\n",
    "    # The 'tables' object is an AstroPy TableList.\n",
    "    # You can access individual tables by index (e.g., tables[0])\n",
    "    # or by the table name if available.\n",
    "\n",
    "    # Print the first table to inspect its contents\n",
    "    #print(tables[0])\n",
    "\n",
    "    # You can access the data as an AstroPy Table object\n",
    "    data_table = tables[0]\n",
    "    df = data_table.to_pandas()\n",
    "else:\n",
    "    print(f\"No tables found for catalog ID: {catalog_id}\")\n",
    "    \n",
    "df[0:5]"
   ]
  },
  {
   "cell_type": "code",
   "execution_count": 47,
   "id": "daa9455b",
   "metadata": {},
   "outputs": [],
   "source": [
    "ra_list  = df[\"RAJ2000\"].astype(str).tolist()\n",
    "dec_list = df[\"DEJ2000\"].astype(str).tolist()\n",
    "coords   = SkyCoord(ra=ra_list, dec=dec_list, unit=(u.degree,u.degree))\n",
    "\n",
    "try:\n",
    "    df.insert(2, 'RA_hourangle', coords.ra.value)\n",
    "    df.insert(3, 'DEC_deg', coords.dec.value)\n",
    "\n",
    "except ValueError:\n",
    "    print('RA (in hourangle) and DEC (in deg) already exist in Landolt catalogue database')\n",
    "    \n"
   ]
  },
  {
   "cell_type": "code",
   "execution_count": 48,
   "id": "e125c90a",
   "metadata": {},
   "outputs": [
    {
     "data": {
      "text/html": [
       "<div>\n",
       "<style scoped>\n",
       "    .dataframe tbody tr th:only-of-type {\n",
       "        vertical-align: middle;\n",
       "    }\n",
       "\n",
       "    .dataframe tbody tr th {\n",
       "        vertical-align: top;\n",
       "    }\n",
       "\n",
       "    .dataframe thead th {\n",
       "        text-align: right;\n",
       "    }\n",
       "</style>\n",
       "<table border=\"1\" class=\"dataframe\">\n",
       "  <thead>\n",
       "    <tr style=\"text-align: right;\">\n",
       "      <th></th>\n",
       "      <th>RAJ2000</th>\n",
       "      <th>DEJ2000</th>\n",
       "      <th>RA_hourangle</th>\n",
       "      <th>DEC_deg</th>\n",
       "      <th>Bmag</th>\n",
       "      <th>e_Bmag</th>\n",
       "      <th>Vmag</th>\n",
       "      <th>e_Vmag</th>\n",
       "      <th>Rmag</th>\n",
       "      <th>e_Rmag</th>\n",
       "      <th>...</th>\n",
       "      <th>e_B-V</th>\n",
       "      <th>U-B</th>\n",
       "      <th>e_U-B</th>\n",
       "      <th>V-R</th>\n",
       "      <th>e_V-R</th>\n",
       "      <th>R-I</th>\n",
       "      <th>e_R-I</th>\n",
       "      <th>V-I</th>\n",
       "      <th>e_V-I</th>\n",
       "      <th>SimbadName</th>\n",
       "    </tr>\n",
       "  </thead>\n",
       "  <tbody>\n",
       "    <tr>\n",
       "      <th>0</th>\n",
       "      <td>00 30 09</td>\n",
       "      <td>-46 31 22</td>\n",
       "      <td>0.502500</td>\n",
       "      <td>-46.522778</td>\n",
       "      <td>15.444000</td>\n",
       "      <td>0.005385</td>\n",
       "      <td>14.651</td>\n",
       "      <td>0.0028</td>\n",
       "      <td>14.216</td>\n",
       "      <td>0.003384</td>\n",
       "      <td>...</td>\n",
       "      <td>0.0046</td>\n",
       "      <td>0.380</td>\n",
       "      <td>0.0071</td>\n",
       "      <td>0.435</td>\n",
       "      <td>0.0019</td>\n",
       "      <td>0.405</td>\n",
       "      <td>0.0035</td>\n",
       "      <td>0.841</td>\n",
       "      <td>0.0032</td>\n",
       "      <td>[L92b] TPHE A</td>\n",
       "    </tr>\n",
       "    <tr>\n",
       "      <th>1</th>\n",
       "      <td>00 30 16</td>\n",
       "      <td>-46 27 55</td>\n",
       "      <td>0.504444</td>\n",
       "      <td>-46.465278</td>\n",
       "      <td>12.738999</td>\n",
       "      <td>0.011790</td>\n",
       "      <td>12.334</td>\n",
       "      <td>0.0115</td>\n",
       "      <td>12.072</td>\n",
       "      <td>0.011673</td>\n",
       "      <td>...</td>\n",
       "      <td>0.0026</td>\n",
       "      <td>0.156</td>\n",
       "      <td>0.0039</td>\n",
       "      <td>0.262</td>\n",
       "      <td>0.0020</td>\n",
       "      <td>0.271</td>\n",
       "      <td>0.0019</td>\n",
       "      <td>0.535</td>\n",
       "      <td>0.0035</td>\n",
       "      <td>[L92b] TPHE B</td>\n",
       "    </tr>\n",
       "    <tr>\n",
       "      <th>2</th>\n",
       "      <td>00 30 17</td>\n",
       "      <td>-46 32 34</td>\n",
       "      <td>0.504722</td>\n",
       "      <td>-46.542778</td>\n",
       "      <td>14.078000</td>\n",
       "      <td>0.003256</td>\n",
       "      <td>14.376</td>\n",
       "      <td>0.0022</td>\n",
       "      <td>14.524</td>\n",
       "      <td>0.004391</td>\n",
       "      <td>...</td>\n",
       "      <td>0.0024</td>\n",
       "      <td>-1.217</td>\n",
       "      <td>0.0043</td>\n",
       "      <td>-0.148</td>\n",
       "      <td>0.0038</td>\n",
       "      <td>-0.211</td>\n",
       "      <td>0.0133</td>\n",
       "      <td>-0.360</td>\n",
       "      <td>0.0149</td>\n",
       "      <td>[L92b] TPHE C</td>\n",
       "    </tr>\n",
       "    <tr>\n",
       "      <th>3</th>\n",
       "      <td>00 30 18</td>\n",
       "      <td>-46 31 11</td>\n",
       "      <td>0.505000</td>\n",
       "      <td>-46.519722</td>\n",
       "      <td>14.669000</td>\n",
       "      <td>0.004460</td>\n",
       "      <td>13.118</td>\n",
       "      <td>0.0033</td>\n",
       "      <td>12.269</td>\n",
       "      <td>0.003625</td>\n",
       "      <td>...</td>\n",
       "      <td>0.0030</td>\n",
       "      <td>1.871</td>\n",
       "      <td>0.0118</td>\n",
       "      <td>0.849</td>\n",
       "      <td>0.0015</td>\n",
       "      <td>0.810</td>\n",
       "      <td>0.0023</td>\n",
       "      <td>1.663</td>\n",
       "      <td>0.0030</td>\n",
       "      <td>[L92b] TPHE D</td>\n",
       "    </tr>\n",
       "    <tr>\n",
       "      <th>4</th>\n",
       "      <td>00 30 19</td>\n",
       "      <td>-46 24 36</td>\n",
       "      <td>0.505278</td>\n",
       "      <td>-46.410000</td>\n",
       "      <td>12.073000</td>\n",
       "      <td>0.002081</td>\n",
       "      <td>11.630</td>\n",
       "      <td>0.0017</td>\n",
       "      <td>11.354</td>\n",
       "      <td>0.001838</td>\n",
       "      <td>...</td>\n",
       "      <td>0.0012</td>\n",
       "      <td>-0.103</td>\n",
       "      <td>0.0024</td>\n",
       "      <td>0.276</td>\n",
       "      <td>0.0007</td>\n",
       "      <td>0.283</td>\n",
       "      <td>0.0015</td>\n",
       "      <td>0.564</td>\n",
       "      <td>0.0019</td>\n",
       "      <td>[L92b] TPHE E</td>\n",
       "    </tr>\n",
       "  </tbody>\n",
       "</table>\n",
       "<p>5 rows × 23 columns</p>\n",
       "</div>"
      ],
      "text/plain": [
       "    RAJ2000    DEJ2000  RA_hourangle    DEC_deg       Bmag    e_Bmag    Vmag  \\\n",
       "0  00 30 09  -46 31 22      0.502500 -46.522778  15.444000  0.005385  14.651   \n",
       "1  00 30 16  -46 27 55      0.504444 -46.465278  12.738999  0.011790  12.334   \n",
       "2  00 30 17  -46 32 34      0.504722 -46.542778  14.078000  0.003256  14.376   \n",
       "3  00 30 18  -46 31 11      0.505000 -46.519722  14.669000  0.004460  13.118   \n",
       "4  00 30 19  -46 24 36      0.505278 -46.410000  12.073000  0.002081  11.630   \n",
       "\n",
       "   e_Vmag    Rmag    e_Rmag  ...   e_B-V    U-B   e_U-B    V-R   e_V-R    R-I  \\\n",
       "0  0.0028  14.216  0.003384  ...  0.0046  0.380  0.0071  0.435  0.0019  0.405   \n",
       "1  0.0115  12.072  0.011673  ...  0.0026  0.156  0.0039  0.262  0.0020  0.271   \n",
       "2  0.0022  14.524  0.004391  ...  0.0024 -1.217  0.0043 -0.148  0.0038 -0.211   \n",
       "3  0.0033  12.269  0.003625  ...  0.0030  1.871  0.0118  0.849  0.0015  0.810   \n",
       "4  0.0017  11.354  0.001838  ...  0.0012 -0.103  0.0024  0.276  0.0007  0.283   \n",
       "\n",
       "    e_R-I    V-I   e_V-I     SimbadName  \n",
       "0  0.0035  0.841  0.0032  [L92b] TPHE A  \n",
       "1  0.0019  0.535  0.0035  [L92b] TPHE B  \n",
       "2  0.0133 -0.360  0.0149  [L92b] TPHE C  \n",
       "3  0.0023  1.663  0.0030  [L92b] TPHE D  \n",
       "4  0.0015  0.564  0.0019  [L92b] TPHE E  \n",
       "\n",
       "[5 rows x 23 columns]"
      ]
     },
     "execution_count": 48,
     "metadata": {},
     "output_type": "execute_result"
    }
   ],
   "source": [
    "try:    \n",
    "    df.insert(4, 'Bmag', df[\"B-V\"] + df[\"Vmag\"])\n",
    "    df.insert(5, 'e_Bmag', np.sqrt(df[\"e_B-V\"]**2 + df[\"e_Vmag\"]**2))\n",
    "    \n",
    "    df.insert(8, 'Rmag', df[\"Vmag\"] - df[\"V-R\"])\n",
    "    df.insert(9, 'e_Rmag', np.sqrt(df[\"e_Vmag\"]**2 + df[\"e_V-R\"]**2))\n",
    "    \n",
    "    df.insert(10, 'Imag', df[\"Rmag\"] - df[\"R-I\"])\n",
    "    df.insert(11, 'e_Imag', np.sqrt(df[\"e_Rmag\"]**2 + df[\"e_R-I\"]**2))\n",
    "    \n",
    "except ValueError:\n",
    "    print('The VRI columns already exist in the Landolt catalogue dataframe')\n",
    "df[0:5]"
   ]
  },
  {
   "cell_type": "markdown",
   "id": "6e97edde",
   "metadata": {},
   "source": [
    "### Selects stars with User Criteria"
   ]
  },
  {
   "cell_type": "code",
   "execution_count": 49,
   "id": "14117e4c",
   "metadata": {},
   "outputs": [
    {
     "data": {
      "text/plain": [
       "Index(['RAJ2000', 'DEJ2000', 'RA_hourangle', 'DEC_deg', 'Bmag', 'e_Bmag',\n",
       "       'Vmag', 'e_Vmag', 'Rmag', 'e_Rmag', 'Imag', 'e_Imag', 'B-V', 'e_B-V',\n",
       "       'U-B', 'e_U-B', 'V-R', 'e_V-R', 'R-I', 'e_R-I', 'V-I', 'e_V-I',\n",
       "       'SimbadName'],\n",
       "      dtype='object')"
      ]
     },
     "execution_count": 49,
     "metadata": {},
     "output_type": "execute_result"
    }
   ],
   "source": [
    "df.columns"
   ]
  },
  {
   "cell_type": "code",
   "execution_count": 58,
   "id": "358c48a1",
   "metadata": {},
   "outputs": [],
   "source": [
    "# criteria\n",
    "list_mag      = [9,11]\n",
    "tolerance_mag = 0.5 \n",
    "\n",
    "\n",
    "\n",
    "# Location\n",
    "latitude = -6.824631  * u.deg  # Latitude of Bosscha Obs\n",
    "longitude = 107.617111 * u.deg\n",
    "elevation = 1100 * u.m \n",
    "earth_location = EarthLocation(lat=latitude, lon=longitude , height=elevation)\n",
    "\n",
    "now_utc = Time(datetime.datetime.utcnow(), scale='utc', location=earth_location)\n",
    "lst = now_utc.sidereal_time('apparent')\n",
    "lst_hour = round(lst.hour,0)"
   ]
  },
  {
   "cell_type": "code",
   "execution_count": 59,
   "id": "7aa2c019",
   "metadata": {},
   "outputs": [
    {
     "data": {
      "text/markdown": [
       "### List Bintang V ~ 9 dengan 15.0 < RA(J2000) < 19.0"
      ],
      "text/plain": [
       "<IPython.core.display.Markdown object>"
      ]
     },
     "metadata": {},
     "output_type": "display_data"
    },
    {
     "data": {
      "text/markdown": [
       "| SimbadName   | RAJ2000   | DEJ2000   |   Vmag |   e_Vmag |   B-V |   e_B-V |\n",
       "|:-------------|:----------|:----------|-------:|---------:|------:|--------:|\n",
       "| SA 109 231   | 17 45 20  | -00 25 51 |  9.332 |   0.0011 | 1.462 |  0.0014 |"
      ],
      "text/plain": [
       "<IPython.core.display.Markdown object>"
      ]
     },
     "metadata": {},
     "output_type": "display_data"
    },
    {
     "data": {
      "text/markdown": [
       "### List Bintang V ~ 11"
      ],
      "text/plain": [
       "<IPython.core.display.Markdown object>"
      ]
     },
     "metadata": {},
     "output_type": "display_data"
    },
    {
     "data": {
      "text/markdown": [
       "| SimbadName   | RAJ2000   | DEJ2000   |   Vmag |   e_Vmag |   B-V |   e_B-V |\n",
       "|:-------------|:----------|:----------|-------:|---------:|------:|--------:|\n",
       "| SA 107 970   | 15 37 25  | +00 18 34 | 10.939 |   0.0074 | 1.596 |  0.0017 |\n",
       "| SA 107 484   | 15 40 17  | -00 21 13 | 11.311 |   0.0044 | 1.237 |  0.0022 |\n",
       "| SA 108 475   | 16 37 00  | -00 34 40 | 11.309 |   0.0014 | 1.38  |  0.0013 |\n",
       "| SA 108 551   | 16 37 47  | -00 33 06 | 10.703 |   0.0011 | 0.179 |  0.0007 |\n",
       "| SA 108 1918  | 16 37 50  | -00 00 37 | 11.384 |   0.0007 | 1.432 |  0.0014 |\n",
       "| SA 109 71    | 17 44 06  | -00 24 59 | 11.493 |   0.001  | 0.323 |  0.0011 |\n",
       "| SA 109 199   | 17 45 02  | -00 29 28 | 10.99  |   0.0098 | 1.739 |  0.004  |\n",
       "| SA 110 506   | 18 43 19  | +00 30 27 | 11.312 |   0.0021 | 0.568 |  0.0021 |\n",
       "| SA 110 441   | 18 43 34  | +00 19 40 | 11.121 |   0.0015 | 0.555 |  0.0015 |"
      ],
      "text/plain": [
       "<IPython.core.display.Markdown object>"
      ]
     },
     "metadata": {},
     "output_type": "display_data"
    }
   ],
   "source": [
    "l_title = True\n",
    "columns       = [\"SimbadName\",'RAJ2000', 'DEJ2000', 'Vmag', 'e_Vmag','B-V', 'e_B-V']\n",
    "for mag in list_mag:\n",
    "    \n",
    "    v_mask  = (df['Vmag'] >= mag - tolerance_mag) & (df['Vmag'] <= mag + tolerance_mag)\n",
    "    RA_mask = (df['RA_hourangle'] >= lst_hour - 2) & (df['RA_hourangle'] <= lst_hour + 2)\n",
    "    \n",
    "    if l_title:\n",
    "        display(Markdown(f\"### List Bintang V ~ {mag} dengan {lst_hour-2} < RA(J2000) < {lst_hour+2}\"))\n",
    "        l_title = False\n",
    "    else:\n",
    "        display(Markdown(f\"### List Bintang V ~ {mag}\"))\n",
    "    markdown_table = df[RA_mask & v_mask][columns].to_markdown(index=False)\n",
    "    display(Markdown(markdown_table))\n",
    "    "
   ]
  },
  {
   "cell_type": "code",
   "execution_count": 60,
   "id": "7249be4c",
   "metadata": {},
   "outputs": [
    {
     "data": {
      "text/markdown": [
       "### List Bintang B ~ 9 dengan 15.0 < RA(J2000) < 19.0"
      ],
      "text/plain": [
       "<IPython.core.display.Markdown object>"
      ]
     },
     "metadata": {},
     "output_type": "display_data"
    },
    {
     "data": {
      "text/markdown": [
       "| SimbadName   | RAJ2000   | DEJ2000   | Bmag   | e_Bmag   | B-V   | e_B-V   |\n",
       "|--------------|-----------|-----------|--------|----------|-------|---------|"
      ],
      "text/plain": [
       "<IPython.core.display.Markdown object>"
      ]
     },
     "metadata": {},
     "output_type": "display_data"
    },
    {
     "data": {
      "text/markdown": [
       "### List Bintang B ~ 11"
      ],
      "text/plain": [
       "<IPython.core.display.Markdown object>"
      ]
     },
     "metadata": {},
     "output_type": "display_data"
    },
    {
     "data": {
      "text/markdown": [
       "| SimbadName   | RAJ2000   | DEJ2000   |   Bmag |     e_Bmag |   B-V |   e_B-V |\n",
       "|:-------------|:----------|:----------|-------:|-----------:|------:|--------:|\n",
       "| SA 108 551   | 16 37 47  | -00 33 06 | 10.882 | 0.00130384 | 0.179 |  0.0007 |\n",
       "| BD-04 4226   | 17 05 15  | -05 05 05 | 11.486 | 0.00351141 | 1.415 |  0.0012 |\n",
       "| SA 109 231   | 17 45 20  | -00 25 51 | 10.794 | 0.00178045 | 1.462 |  0.0014 |\n",
       "| SA 109 537   | 17 45 42  | -00 21 34 | 10.962 | 0.00295466 | 0.609 |  0.0012 |"
      ],
      "text/plain": [
       "<IPython.core.display.Markdown object>"
      ]
     },
     "metadata": {},
     "output_type": "display_data"
    }
   ],
   "source": [
    "l_title = True\n",
    "columns       = [\"SimbadName\",'RAJ2000', 'DEJ2000', 'Bmag', 'e_Bmag','B-V', 'e_B-V']\n",
    "for mag in list_mag:\n",
    "    \n",
    "    v_mask  = (df['Bmag'] >= mag - tolerance_mag) & (df['Bmag'] <= mag + tolerance_mag)\n",
    "    RA_mask = (df['RA_hourangle'] >= lst_hour - 2) & (df['RA_hourangle'] <= lst_hour + 2)\n",
    "    \n",
    "    if l_title:\n",
    "        display(Markdown(f\"### List Bintang B ~ {mag} dengan {lst_hour-2} < RA(J2000) < {lst_hour+2}\"))\n",
    "        l_title = False\n",
    "    else:\n",
    "        display(Markdown(f\"### List Bintang B ~ {mag}\"))\n",
    "    markdown_table = df[RA_mask & v_mask][columns].to_markdown(index=False)\n",
    "    display(Markdown(markdown_table))"
   ]
  },
  {
   "cell_type": "code",
   "execution_count": 61,
   "id": "606074e6",
   "metadata": {},
   "outputs": [
    {
     "data": {
      "text/markdown": [
       "### List Bintang R ~ 9 dengan 15.0 < RA(J2000) < 19.0"
      ],
      "text/plain": [
       "<IPython.core.display.Markdown object>"
      ]
     },
     "metadata": {},
     "output_type": "display_data"
    },
    {
     "data": {
      "text/markdown": [
       "| SimbadName   | RAJ2000   | DEJ2000   |   Rmag |     e_Rmag |   Vmag |   V-R |   e_V-R |\n",
       "|:-------------|:----------|:----------|-------:|-----------:|-------:|------:|--------:|\n",
       "| BD-12 4523   | 16 30 18  | -12 39 08 |  8.917 | 0.00327567 | 10.069 | 1.152 |  0.0007 |\n",
       "| BD-04 4226   | 17 05 15  | -05 05 05 |  9.101 | 0.00332415 | 10.071 | 0.97  |  0.0004 |\n",
       "| SA 109 231   | 17 45 20  | -00 25 51 |  8.547 | 0.001253   |  9.332 | 0.785 |  0.0006 |"
      ],
      "text/plain": [
       "<IPython.core.display.Markdown object>"
      ]
     },
     "metadata": {},
     "output_type": "display_data"
    },
    {
     "data": {
      "text/markdown": [
       "### List Bintang R ~ 11"
      ],
      "text/plain": [
       "<IPython.core.display.Markdown object>"
      ]
     },
     "metadata": {},
     "output_type": "display_data"
    },
    {
     "data": {
      "text/markdown": [
       "| SimbadName   | RAJ2000   | DEJ2000   |   Rmag |     e_Rmag |   Vmag |   V-R |   e_V-R |\n",
       "|:-------------|:----------|:----------|-------:|-----------:|-------:|------:|--------:|\n",
       "| SA 107 1006  | 15 38 34  | +00 14 22 | 11.27  | 0.00128062 | 11.712 | 0.442 |  0.0008 |\n",
       "| SA 107 592   | 15 38 51  | -00 17 10 | 11.138 | 0.00354683 | 11.847 | 0.709 |  0.0013 |\n",
       "| SA 107 458   | 15 38 50  | -00 24 27 | 11.009 | 0.00504777 | 11.676 | 0.667 |  0.0028 |\n",
       "| SA 107 484   | 15 40 17  | -00 21 13 | 10.647 | 0.0047927  | 11.311 | 0.664 |  0.0019 |\n",
       "| SA 108 1848  | 16 36 58  | +00 05 57 | 11.407 | 0          | 11.738 | 0.331 |  0      |\n",
       "| SA 108 475   | 16 37 00  | -00 34 40 | 10.565 | 0.00161245 | 11.309 | 0.744 |  0.0008 |\n",
       "| SA 108 551   | 16 37 47  | -00 33 06 | 10.604 | 0.001253   | 10.703 | 0.099 |  0.0006 |\n",
       "| SA 108 1918  | 16 37 50  | -00 00 37 | 10.611 | 0.00425793 | 11.384 | 0.773 |  0.0042 |\n",
       "| WOLF 629     | 16 55 27  | -08 18 53 | 10.574 | 0.00440114 | 11.759 | 1.185 |  0.0016 |\n",
       "| SA 109 71    | 17 44 06  | -00 24 59 | 11.307 | 0.00128062 | 11.493 | 0.186 |  0.0008 |\n",
       "| SA 109 381   | 17 44 12  | -00 20 32 | 11.302 | 0.00142127 | 11.73  | 0.428 |  0.0009 |\n",
       "| SA 110 355   | 18 42 19  | +00 08 24 | 11.292 | 0.00348281 | 11.944 | 0.652 |  0.0022 |\n",
       "| SA 110 266   | 18 42 49  | +00 05 06 | 11.48  | 0.0019799  | 12.018 | 0.538 |  0.0014 |\n",
       "| SA 110 499   | 18 43 07  | +00 28 00 | 11.137 | 0.00363593 | 11.737 | 0.6   |  0.0019 |\n",
       "| SA 110 502   | 18 43 10  | +00 27 40 | 10.957 | 0.00363593 | 12.33  | 1.373 |  0.0019 |\n",
       "| SA 110 503   | 18 43 11  | +00 29 43 | 11.4   | 0.00358469 | 11.773 | 0.373 |  0.0018 |\n",
       "| SA 110 506   | 18 43 19  | +00 30 27 | 10.977 | 0.00221359 | 11.312 | 0.335 |  0.0007 |\n",
       "| SA 110 290   | 18 43 22  | -00 01 15 | 11.48  | 0.00370135 | 11.898 | 0.418 |  0.0023 |\n",
       "| SA 110 441   | 18 43 34  | +00 19 40 | 10.797 | 0.00192094 | 11.121 | 0.324 |  0.0012 |\n",
       "| SA 110 450   | 18 43 52  | +00 22 58 | 11.033 | 0.00228254 | 11.585 | 0.552 |  0.0011 |\n",
       "| SA 110 319   | 18 43 55  | +00 02 01 | 11.119 | 0.0117047  | 11.861 | 0.742 |  0.004  |"
      ],
      "text/plain": [
       "<IPython.core.display.Markdown object>"
      ]
     },
     "metadata": {},
     "output_type": "display_data"
    }
   ],
   "source": [
    "l_title = True\n",
    "columns       = [\"SimbadName\",'RAJ2000', 'DEJ2000', 'Rmag', 'e_Rmag', 'Vmag', 'V-R', 'e_V-R']\n",
    "for mag in list_mag:\n",
    "    \n",
    "    v_mask  = (df['Rmag'] >= mag - tolerance_mag) & (df['Rmag'] <= mag + tolerance_mag)\n",
    "    RA_mask = (df['RA_hourangle'] >= lst_hour - 2) & (df['RA_hourangle'] <= lst_hour + 2)\n",
    "    \n",
    "    if l_title:\n",
    "        display(Markdown(f\"### List Bintang R ~ {mag} dengan {lst_hour-2} < RA(J2000) < {lst_hour+2}\"))\n",
    "        l_title = False\n",
    "    else:\n",
    "        display(Markdown(f\"### List Bintang R ~ {mag}\"))\n",
    "    markdown_table = df[RA_mask & v_mask][columns].to_markdown(index=False)\n",
    "    display(Markdown(markdown_table))"
   ]
  },
  {
   "cell_type": "code",
   "execution_count": 62,
   "id": "7f70aae4",
   "metadata": {},
   "outputs": [
    {
     "data": {
      "text/markdown": [
       "### List Bintang I ~ 9 dengan 15.0 < RA(J2000) < 19.0"
      ],
      "text/plain": [
       "<IPython.core.display.Markdown object>"
      ]
     },
     "metadata": {},
     "output_type": "display_data"
    },
    {
     "data": {
      "text/markdown": [
       "| SimbadName   | RAJ2000   | DEJ2000   |   Imag |    e_Imag |   Vmag |   Rmag |   R-I |   e_R-I |\n",
       "|:-------------|:----------|:----------|-------:|----------:|-------:|-------:|------:|--------:|\n",
       "| WOLF 629     | 16 55 27  | -08 18 53 |  9.049 | 0.0045618 | 11.759 | 10.574 | 1.525 |  0.0012 |\n",
       "| SA 109 199   | 17 45 02  | -00 29 28 |  9.084 | 0.0111485 | 10.99  |  9.984 | 0.9   |  0.004  |"
      ],
      "text/plain": [
       "<IPython.core.display.Markdown object>"
      ]
     },
     "metadata": {},
     "output_type": "display_data"
    },
    {
     "data": {
      "text/markdown": [
       "### List Bintang I ~ 11"
      ],
      "text/plain": [
       "<IPython.core.display.Markdown object>"
      ]
     },
     "metadata": {},
     "output_type": "display_data"
    },
    {
     "data": {
      "text/markdown": [
       "| SimbadName         | RAJ2000   | DEJ2000   |   Imag |     e_Imag |   Vmag |   Rmag |   R-I |   e_R-I |\n",
       "|:-------------------|:----------|:----------|-------:|-----------:|-------:|-------:|------:|--------:|\n",
       "| [L92b] PG1528+062B | 15 30 40  | +06 01 11 | 11.281 | 0          | 11.989 | 11.625 | 0.344 |  0      |\n",
       "| SA 107 1006        | 15 38 34  | +00 14 22 | 10.849 | 0.00156525 | 11.712 | 11.27  | 0.421 |  0.0009 |\n",
       "| SA 107 459         | 15 38 51  | -00 22 31 | 11.242 | 0.0032078  | 12.284 | 11.759 | 0.517 |  0.0007 |\n",
       "| SA 107 602         | 15 39 19  | -00 15 29 | 11.04  | 0.0037921  | 12.116 | 11.571 | 0.531 |  0.0022 |\n",
       "| SA 108 1848        | 16 36 58  | +00 05 57 | 11.082 | 0          | 11.738 | 11.407 | 0.325 |  0      |\n",
       "| SA 108 1863        | 16 37 13  | +00 02 34 | 11.4   | 0          | 12.244 | 11.798 | 0.398 |  0      |\n",
       "| SA 108 981         | 16 39 17  | -00 25 08 | 11.449 | 0.00438748 | 12.071 | 11.761 | 0.312 |  0.003  |\n",
       "| SA 109 71          | 17 44 06  | -00 24 59 | 11.084 | 0.00150997 | 11.493 | 11.307 | 0.223 |  0.0008 |\n",
       "| SA 109 381         | 17 44 12  | -00 20 32 | 10.867 | 0.00163095 | 11.73  | 11.302 | 0.435 |  0.0008 |\n",
       "| SA 109 954         | 17 44 15  | -00 02 17 | 10.941 | 0.00983209 | 12.436 | 11.672 | 0.731 |  0.0027 |\n",
       "| SA 110 229         | 18 40 45  | +00 01 51 | 11.296 | 0.00410488 | 13.649 | 12.451 | 1.155 |  0.002  |\n",
       "| SA 110 233         | 18 40 52  | +00 00 51 | 11.18  | 0.00380789 | 12.771 | 11.998 | 0.818 |  0.0015 |\n",
       "| SA 110 355         | 18 42 19  | +00 08 24 | 10.565 | 0.00411947 | 11.944 | 11.292 | 0.727 |  0.0022 |\n",
       "| SA 110 266         | 18 42 49  | +00 05 06 | 10.903 | 0.00288617 | 12.018 | 11.48  | 0.577 |  0.0021 |\n",
       "| SA 110 365         | 18 42 57  | +00 07 20 | 10.84  | 0.00406694 | 13.47  | 12.11  | 1.27  |  0.0022 |\n",
       "| SA 110 157         | 18 42 57  | -00 08 56 | 11.095 | 0.00824985 | 13.491 | 12.234 | 1.139 |  0.0049 |\n",
       "| SA 110 280         | 18 43 07  | -00 03 40 | 10.613 | 0.00487852 | 12.996 | 11.761 | 1.148 |  0.003  |\n",
       "| SA 110 503         | 18 43 11  | +00 29 43 | 10.964 | 0.00392556 | 11.773 | 11.4   | 0.436 |  0.0016 |\n",
       "| SA 110 506         | 18 43 19  | +00 30 27 | 10.665 | 0.00474763 | 11.312 | 10.977 | 0.312 |  0.0042 |\n",
       "| SA 110 507         | 18 43 19  | +00 29 26 | 11.228 | 0.00645368 | 12.44  | 11.807 | 0.579 |  0      |\n",
       "| SA 110 290         | 18 43 22  | -00 01 15 | 11.062 | 0.00470213 | 11.898 | 11.48  | 0.418 |  0.0029 |\n",
       "| SA 110 315         | 18 43 52  | +00 00 49 | 11.298 | 0.00936056 | 13.637 | 12.431 | 1.133 |  0.0057 |"
      ],
      "text/plain": [
       "<IPython.core.display.Markdown object>"
      ]
     },
     "metadata": {},
     "output_type": "display_data"
    }
   ],
   "source": [
    "l_title = True\n",
    "columns       = [\"SimbadName\",'RAJ2000', 'DEJ2000', 'Imag', 'e_Imag','Vmag', 'Rmag', 'R-I', 'e_R-I']\n",
    "for mag in list_mag:\n",
    "    \n",
    "    v_mask  = (df['Imag'] >= mag - tolerance_mag) & (df['Imag'] <= mag + tolerance_mag)\n",
    "    RA_mask = (df['RA_hourangle'] >= lst_hour - 2) & (df['RA_hourangle'] <= lst_hour + 2)\n",
    "    \n",
    "    if l_title:\n",
    "        display(Markdown(f\"### List Bintang I ~ {mag} dengan {lst_hour-2} < RA(J2000) < {lst_hour+2}\"))\n",
    "        l_title = False\n",
    "    else:\n",
    "        display(Markdown(f\"### List Bintang I ~ {mag}\"))\n",
    "    markdown_table = df[RA_mask & v_mask][columns].to_markdown(index=False)\n",
    "    display(Markdown(markdown_table))"
   ]
  },
  {
   "cell_type": "code",
   "execution_count": null,
   "id": "79275f24",
   "metadata": {},
   "outputs": [],
   "source": []
  }
 ],
 "metadata": {
  "kernelspec": {
   "display_name": "Python 3 (ipykernel)",
   "language": "python",
   "name": "python3"
  },
  "language_info": {
   "codemirror_mode": {
    "name": "ipython",
    "version": 3
   },
   "file_extension": ".py",
   "mimetype": "text/x-python",
   "name": "python",
   "nbconvert_exporter": "python",
   "pygments_lexer": "ipython3",
   "version": "3.9.13"
  }
 },
 "nbformat": 4,
 "nbformat_minor": 5
}
